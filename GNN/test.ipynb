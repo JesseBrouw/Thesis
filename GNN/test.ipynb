{
 "cells": [
  {
   "cell_type": "code",
   "execution_count": 1,
   "metadata": {},
   "outputs": [
    {
     "name": "stdout",
     "output_type": "stream",
     "text": [
      "[0, 1, 2, 3, 4, 5, 6, 7, 8, 9, 10, 11, 12, 13]\n",
      "[14, 15, 16]\n",
      "[17, 18, 19]\n",
      "20\n"
     ]
    }
   ],
   "source": [
    "def check(l, r1, r2):\n",
    "    r1 = int(r1*len(l))\n",
    "    r2 = int(r2*len(l))\n",
    "    print(l[:r1])\n",
    "    print(l[r1:r1+r2])\n",
    "    print(l[r1+r2:])\n",
    "    print( sum( [len(l[:r1]), len(l[r1:r1+r2]), len(l[r1+r2:]) ]) )\n",
    "\n",
    "check(list(range(20)), 0.7, 0.15)"
   ]
  },
  {
   "cell_type": "code",
   "execution_count": 2,
   "metadata": {},
   "outputs": [
    {
     "data": {
      "text/plain": [
       "((      horizon                                              graph  label_0  \\\n",
       "  0           1  {\"labels\": [0, 0, 0, 0, 0, 0, 0, 0, 2, 2, 2, 2...        8   \n",
       "  1           2  {\"labels\": [0, 0, 0, 0, 0, 0, 0, 0, 2, 2, 2, 2...        8   \n",
       "  2           3  {\"labels\": [0, 0, 0, 0, 0, 0, 0, 0, 2, 2, 2, 2...        8   \n",
       "  3           4  {\"labels\": [0, 0, 0, 0, 0, 0, 0, 0, 2, 2, 2, 2...        8   \n",
       "  4           5  {\"labels\": [0, 0, 0, 0, 0, 0, 0, 0, 2, 2, 2, 2...        8   \n",
       "  ...       ...                                                ...      ...   \n",
       "  1381       95  {\"labels\": [0, 0, 0, 0, 0, 0, 0, 0, 0, 0, 0, 0...       34   \n",
       "  1382       96  {\"labels\": [0, 0, 0, 0, 0, 0, 0, 0, 0, 0, 0, 0...       34   \n",
       "  1383       97  {\"labels\": [0, 0, 0, 0, 0, 0, 0, 0, 0, 0, 0, 0...       34   \n",
       "  1384       98  {\"labels\": [0, 0, 0, 0, 0, 0, 0, 0, 0, 0, 0, 0...       34   \n",
       "  1385       99  {\"labels\": [0, 0, 0, 0, 0, 0, 0, 0, 0, 0, 0, 0...       34   \n",
       "  \n",
       "        label_1  label_2  label_3  label_4  label_5  label_6  label_7  label_8  \\\n",
       "  0           0       12       11       30        8       24        0        0   \n",
       "  1           0       12       11       30        8       24        0        0   \n",
       "  2           0       12       11       30        8       24        0        0   \n",
       "  3           0       12       11       30        8       24        0        0   \n",
       "  4           0       12       11       30        8       24        0        0   \n",
       "  ...       ...      ...      ...      ...      ...      ...      ...      ...   \n",
       "  1381        0       90       11       30        8       24        0        0   \n",
       "  1382        0       90       11       30        8       24        0        0   \n",
       "  1383        0       90       11       30        8       24        0        0   \n",
       "  1384        0       90       11       30        8       24        0        0   \n",
       "  1385        0       90       11       30        8       24        0        0   \n",
       "  \n",
       "        label_9  label_10  label_11  label_12  label_13  label_14  \n",
       "  0           0         0         0         0         5         2  \n",
       "  1           0         0         0         0         5         2  \n",
       "  2           0         0         0         0         5         2  \n",
       "  3           0         0         0         0         5         2  \n",
       "  4           0         0         0         0         5         2  \n",
       "  ...       ...       ...       ...       ...       ...       ...  \n",
       "  1381        0         0         0         0         5         2  \n",
       "  1382        0         0         0         0         5         2  \n",
       "  1383        0         0         0         0         5         2  \n",
       "  1384        0         0         0         0         5         2  \n",
       "  1385        0         0         0         0         5         2  \n",
       "  \n",
       "  [1386 rows x 17 columns],\n",
       "  array([0, 0, 0, ..., 1, 1, 1])),\n",
       " (      horizon                                              graph  label_0  \\\n",
       "  1386        1  {\"labels\": [0, 0, 0, 0, 0, 0, 0, 0, 0, 0, 0, 0...       36   \n",
       "  1387        2  {\"labels\": [0, 0, 0, 0, 0, 0, 0, 0, 0, 0, 0, 0...       36   \n",
       "  1388        3  {\"labels\": [0, 0, 0, 0, 0, 0, 0, 0, 0, 0, 0, 0...       36   \n",
       "  1389        4  {\"labels\": [0, 0, 0, 0, 0, 0, 0, 0, 0, 0, 0, 0...       36   \n",
       "  1390        5  {\"labels\": [0, 0, 0, 0, 0, 0, 0, 0, 0, 0, 0, 0...       36   \n",
       "  ...       ...                                                ...      ...   \n",
       "  1678       95  {\"labels\": [0, 0, 0, 0, 0, 0, 0, 0, 0, 0, 0, 0...       40   \n",
       "  1679       96  {\"labels\": [0, 0, 0, 0, 0, 0, 0, 0, 0, 0, 0, 0...       40   \n",
       "  1680       97  {\"labels\": [0, 0, 0, 0, 0, 0, 0, 0, 0, 0, 0, 0...       40   \n",
       "  1681       98  {\"labels\": [0, 0, 0, 0, 0, 0, 0, 0, 0, 0, 0, 0...       40   \n",
       "  1682       99  {\"labels\": [0, 0, 0, 0, 0, 0, 0, 0, 0, 0, 0, 0...       40   \n",
       "  \n",
       "        label_1  label_2  label_3  label_4  label_5  label_6  label_7  label_8  \\\n",
       "  1386        0       96       11       30        8       24        0        0   \n",
       "  1387        0       96       11       30        8       24        0        0   \n",
       "  1388        0       96       11       30        8       24        0        0   \n",
       "  1389        0       96       11       30        8       24        0        0   \n",
       "  1390        0       96       11       30        8       24        0        0   \n",
       "  ...       ...      ...      ...      ...      ...      ...      ...      ...   \n",
       "  1678        0      108       11       30        8       24        0        0   \n",
       "  1679        0      108       11       30        8       24        0        0   \n",
       "  1680        0      108       11       30        8       24        0        0   \n",
       "  1681        0      108       11       30        8       24        0        0   \n",
       "  1682        0      108       11       30        8       24        0        0   \n",
       "  \n",
       "        label_9  label_10  label_11  label_12  label_13  label_14  \n",
       "  1386        0         0         0         0         5         2  \n",
       "  1387        0         0         0         0         5         2  \n",
       "  1388        0         0         0         0         5         2  \n",
       "  1389        0         0         0         0         5         2  \n",
       "  1390        0         0         0         0         5         2  \n",
       "  ...       ...       ...       ...       ...       ...       ...  \n",
       "  1678        0         0         0         0         5         2  \n",
       "  1679        0         0         0         0         5         2  \n",
       "  1680        0         0         0         0         5         2  \n",
       "  1681        0         0         0         0         5         2  \n",
       "  1682        0         0         0         0         5         2  \n",
       "  \n",
       "  [297 rows x 17 columns],\n",
       "  array([0, 0, 0, 0, 0, 0, 0, 0, 0, 0, 0, 0, 0, 0, 0, 0, 0, 0, 0, 0, 0, 0,\n",
       "         0, 0, 0, 0, 0, 0, 0, 0, 0, 1, 1, 1, 1, 1, 1, 1, 1, 1, 1, 1, 1, 1,\n",
       "         1, 1, 1, 1, 1, 1, 1, 1, 1, 1, 1, 1, 1, 1, 1, 1, 1, 1, 1, 1, 1, 1,\n",
       "         1, 1, 1, 1, 1, 1, 1, 1, 1, 1, 1, 1, 1, 1, 1, 1, 1, 1, 1, 1, 1, 1,\n",
       "         1, 1, 1, 1, 1, 1, 1, 1, 1, 1, 1, 0, 0, 0, 0, 0, 0, 0, 0, 0, 0, 0,\n",
       "         0, 0, 0, 0, 0, 0, 0, 0, 0, 0, 0, 0, 0, 0, 0, 0, 0, 0, 0, 0, 0, 0,\n",
       "         1, 1, 1, 1, 1, 1, 1, 1, 1, 1, 1, 1, 1, 1, 1, 1, 1, 1, 1, 1, 1, 1,\n",
       "         1, 1, 1, 1, 1, 1, 1, 1, 1, 1, 1, 1, 1, 1, 1, 1, 1, 1, 1, 1, 1, 1,\n",
       "         1, 1, 1, 1, 1, 1, 1, 1, 1, 1, 1, 1, 1, 1, 1, 1, 1, 1, 1, 1, 1, 1,\n",
       "         0, 0, 0, 0, 0, 0, 0, 0, 0, 0, 0, 0, 0, 0, 0, 0, 0, 0, 0, 0, 0, 0,\n",
       "         0, 0, 0, 0, 0, 0, 0, 0, 0, 0, 0, 0, 0, 1, 1, 1, 1, 1, 1, 1, 1, 1,\n",
       "         1, 1, 1, 1, 1, 1, 1, 1, 1, 1, 1, 1, 1, 1, 1, 1, 1, 1, 1, 1, 1, 1,\n",
       "         1, 1, 1, 1, 1, 1, 1, 1, 1, 1, 1, 1, 1, 1, 1, 1, 1, 1, 1, 1, 1, 1,\n",
       "         1, 1, 1, 1, 1, 1, 1, 1, 1, 1, 1])),\n",
       " (      horizon                                              graph  label_0  \\\n",
       "  1683        1  {\"labels\": [0, 0, 0, 0, 0, 0, 0, 0, 0, 0, 0, 0...       42   \n",
       "  1684        2  {\"labels\": [0, 0, 0, 0, 0, 0, 0, 0, 0, 0, 0, 0...       42   \n",
       "  1685        3  {\"labels\": [0, 0, 0, 0, 0, 0, 0, 0, 0, 0, 0, 0...       42   \n",
       "  1686        4  {\"labels\": [0, 0, 0, 0, 0, 0, 0, 0, 0, 0, 0, 0...       42   \n",
       "  1687        5  {\"labels\": [0, 0, 0, 0, 0, 0, 0, 0, 0, 0, 0, 0...       42   \n",
       "  ...       ...                                                ...      ...   \n",
       "  1975       95  {\"labels\": [0, 0, 0, 0, 0, 0, 0, 0, 0, 0, 0, 0...       46   \n",
       "  1976       96  {\"labels\": [0, 0, 0, 0, 0, 0, 0, 0, 0, 0, 0, 0...       46   \n",
       "  1977       97  {\"labels\": [0, 0, 0, 0, 0, 0, 0, 0, 0, 0, 0, 0...       46   \n",
       "  1978       98  {\"labels\": [0, 0, 0, 0, 0, 0, 0, 0, 0, 0, 0, 0...       46   \n",
       "  1979       99  {\"labels\": [0, 0, 0, 0, 0, 0, 0, 0, 0, 0, 0, 0...       46   \n",
       "  \n",
       "        label_1  label_2  label_3  label_4  label_5  label_6  label_7  label_8  \\\n",
       "  1683        0      114       11       30        8       24        0        0   \n",
       "  1684        0      114       11       30        8       24        0        0   \n",
       "  1685        0      114       11       30        8       24        0        0   \n",
       "  1686        0      114       11       30        8       24        0        0   \n",
       "  1687        0      114       11       30        8       24        0        0   \n",
       "  ...       ...      ...      ...      ...      ...      ...      ...      ...   \n",
       "  1975        0      126       11       30        8       24        0        0   \n",
       "  1976        0      126       11       30        8       24        0        0   \n",
       "  1977        0      126       11       30        8       24        0        0   \n",
       "  1978        0      126       11       30        8       24        0        0   \n",
       "  1979        0      126       11       30        8       24        0        0   \n",
       "  \n",
       "        label_9  label_10  label_11  label_12  label_13  label_14  \n",
       "  1683        0         0         0         0         5         2  \n",
       "  1684        0         0         0         0         5         2  \n",
       "  1685        0         0         0         0         5         2  \n",
       "  1686        0         0         0         0         5         2  \n",
       "  1687        0         0         0         0         5         2  \n",
       "  ...       ...       ...       ...       ...       ...       ...  \n",
       "  1975        0         0         0         0         5         2  \n",
       "  1976        0         0         0         0         5         2  \n",
       "  1977        0         0         0         0         5         2  \n",
       "  1978        0         0         0         0         5         2  \n",
       "  1979        0         0         0         0         5         2  \n",
       "  \n",
       "  [297 rows x 17 columns],\n",
       "  array([0, 0, 0, 0, 0, 0, 0, 0, 0, 0, 0, 0, 0, 0, 0, 0, 0, 0, 0, 0, 0, 0,\n",
       "         0, 0, 0, 0, 0, 0, 0, 0, 0, 0, 0, 0, 0, 0, 0, 1, 1, 1, 1, 1, 1, 1,\n",
       "         1, 1, 1, 1, 1, 1, 1, 1, 1, 1, 1, 1, 1, 1, 1, 1, 1, 1, 1, 1, 1, 1,\n",
       "         1, 1, 1, 1, 1, 1, 1, 1, 1, 1, 1, 1, 1, 1, 1, 1, 1, 1, 1, 1, 1, 1,\n",
       "         1, 1, 1, 1, 1, 1, 1, 1, 1, 1, 1, 0, 0, 0, 0, 0, 0, 0, 0, 0, 0, 0,\n",
       "         0, 0, 0, 0, 0, 0, 0, 0, 0, 0, 0, 0, 0, 0, 0, 0, 0, 0, 0, 0, 0, 0,\n",
       "         0, 0, 0, 0, 0, 0, 1, 1, 1, 1, 1, 1, 1, 1, 1, 1, 1, 1, 1, 1, 1, 1,\n",
       "         1, 1, 1, 1, 1, 1, 1, 1, 1, 1, 1, 1, 1, 1, 1, 1, 1, 1, 1, 1, 1, 1,\n",
       "         1, 1, 1, 1, 1, 1, 1, 1, 1, 1, 1, 1, 1, 1, 1, 1, 1, 1, 1, 1, 1, 1,\n",
       "         0, 0, 0, 0, 0, 0, 0, 0, 0, 0, 0, 0, 0, 0, 0, 0, 0, 0, 0, 0, 0, 0,\n",
       "         0, 0, 0, 0, 0, 0, 0, 0, 0, 0, 0, 0, 0, 0, 0, 0, 0, 0, 0, 1, 1, 1,\n",
       "         1, 1, 1, 1, 1, 1, 1, 1, 1, 1, 1, 1, 1, 1, 1, 1, 1, 1, 1, 1, 1, 1,\n",
       "         1, 1, 1, 1, 1, 1, 1, 1, 1, 1, 1, 1, 1, 1, 1, 1, 1, 1, 1, 1, 1, 1,\n",
       "         1, 1, 1, 1, 1, 1, 1, 1, 1, 1, 1])))"
      ]
     },
     "execution_count": 2,
     "metadata": {},
     "output_type": "execute_result"
    }
   ],
   "source": [
    "from load_data import load_data\n",
    "\n",
    "load_data('gripper.csv')"
   ]
  },
  {
   "cell_type": "code",
   "execution_count": 3,
   "metadata": {},
   "outputs": [],
   "source": [
    "for i in []:\n",
    "    print(i)"
   ]
  },
  {
   "cell_type": "code",
   "execution_count": 4,
   "metadata": {},
   "outputs": [
    {
     "name": "stderr",
     "output_type": "stream",
     "text": [
      "/Users/jessebrouwers/.pyenv/versions/3.10.1/lib/python3.10/site-packages/tqdm/auto.py:22: TqdmWarning: IProgress not found. Please update jupyter and ipywidgets. See https://ipywidgets.readthedocs.io/en/stable/user_install.html\n",
      "  from .autonotebook import tqdm as notebook_tqdm\n"
     ]
    },
    {
     "data": {
      "text/plain": [
       "tensor([1, 2, 3, 0, 1, 2])"
      ]
     },
     "execution_count": 4,
     "metadata": {},
     "output_type": "execute_result"
    }
   ],
   "source": [
    "import torch\n",
    "\n",
    "torch.cat((torch.tensor([1,2,3]), torch.tensor([0,1,2])))"
   ]
  },
  {
   "cell_type": "code",
   "execution_count": 10,
   "metadata": {},
   "outputs": [
    {
     "name": "stderr",
     "output_type": "stream",
     "text": [
      "/var/folders/9s/tpngqg8x1k31plc16l2vvb640000gn/T/ipykernel_28836/3640742453.py:22: UserWarning: Matplotlib is currently using module://matplotlib_inline.backend_inline, which is a non-GUI backend, so cannot show the figure.\n",
      "  fig.show()\n"
     ]
    },
    {
     "data": {
      "image/png": "[encoded data removed]",
      "text/plain": [
       "<Figure size 640x480 with 1 Axes>"
      ]
     },
     "metadata": {},
     "output_type": "display_data"
    }
   ],
   "source": [
    "import matplotlib.pyplot as plt\n",
    "import numpy as np\n",
    "import os\n",
    "\n",
    "def quadquad_loss(e, p=2, alpha=0.7):\n",
    "    \"\"\"\n",
    "        Estimation_of_flood_warning_runoff_thresholds_in_u.pdf\n",
    "\n",
    "        Assymetric loss function, penalizes underestimating more when\n",
    "        alpha > 0.5, less when alpha = 0.5, and for p = 2, and alpha = 0.5\n",
    "        it is mean squared error. \n",
    "    \"\"\"\n",
    "    return 2*(alpha + (1-2*alpha)*((e)<0)) * abs((e))**p\n",
    "\n",
    "fig, ax = plt.subplots()\n",
    "x = list(np.linspace(-100, 100, 1000))\n",
    "y = list(map(quadquad_loss, x))\n",
    "ax.plot(x, y)\n",
    "ax.set_xlabel('x')\n",
    "ax.set_ylabel('y')\n",
    "ax.set_title('QuadQuad Loss function with alpha=0.7 and p=2.')\n",
    "fig.show()\n",
    "fig.savefig(os.path.join(os.getcwd(), 'QuadQuad.png'), dpi=300)\n",
    "\n"
   ]
  },
  {
   "cell_type": "code",
   "execution_count": 45,
   "metadata": {},
   "outputs": [
    {
     "name": "stdout",
     "output_type": "stream",
     "text": [
      "tensor([ 6.7112e-03,  8.8584e-02, -2.7690e-01,  9.8123e-02,  4.7257e-01,\n",
      "        -4.1610e-04,  3.5294e-03, -9.5399e-03,  8.4819e-01, -7.5894e-02])\n",
      "torch.Size([10])\n",
      "tensor(1.0000)\n",
      "torch.Size([5, 10])\n",
      "tensor([ 0.8989, -0.1854,  1.1385, -0.8467,  0.1496])\n",
      "tensor([[-6.4078e-02, -4.3838e-02,  3.2731e-02, -4.5397e-02, -4.0103e-02],\n",
      "        [-5.2716e-02,  2.5021e-02, -3.4470e-03, -5.4065e-02, -4.0470e-02],\n",
      "        [-9.0287e-02,  1.0001e-01, -3.9946e-02, -9.0428e-02, -6.5596e-02],\n",
      "        [ 4.2831e-02, -8.8386e-02,  4.5775e-02,  1.0578e-02,  4.5085e-03],\n",
      "        [-8.2399e-02,  1.4616e-03,  2.5535e-02, -8.3402e-02, -4.1516e-02],\n",
      "        [ 1.7988e-01, -3.5925e-01,  6.7751e-02,  2.8270e-01,  2.1177e-02],\n",
      "        [ 9.6233e-02, -2.0936e-01,  6.3895e-02,  1.1529e-01,  1.1411e-02],\n",
      "        [ 1.1204e-04, -6.4362e-02,  3.3284e-02, -1.0090e-02, -1.8192e-02],\n",
      "        [-1.2449e-01,  2.8910e-02,  1.3903e-02, -1.0769e-01, -6.1494e-02],\n",
      "        [-5.2531e-02,  2.7254e-02, -8.4775e-03, -5.3793e-02, -4.5858e-02]],\n",
      "       grad_fn=<SqueezeBackward1>)\n",
      "tensor([-0.0903,  0.1000, -0.0399, -0.0904, -0.0656],\n",
      "       grad_fn=<SelectBackward0>)\n"
     ]
    },
    {
     "name": "stderr",
     "output_type": "stream",
     "text": [
      "/var/folders/9s/tpngqg8x1k31plc16l2vvb640000gn/T/ipykernel_31115/1477452342.py:3: UserWarning: To copy construct from a tensor, it is recommended to use sourceTensor.clone().detach() or sourceTensor.clone().detach().requires_grad_(True), rather than torch.tensor(sourceTensor).\n",
      "  x = torch.tensor(torch.randn(10, 5))\n",
      "/var/folders/9s/tpngqg8x1k31plc16l2vvb640000gn/T/ipykernel_31115/1477452342.py:4: UserWarning: To copy construct from a tensor, it is recommended to use sourceTensor.clone().detach() or sourceTensor.clone().detach().requires_grad_(True), rather than torch.tensor(sourceTensor).\n",
      "  q = torch.tensor(torch.tensor([0, 0, 0, 0, 1]))\n"
     ]
    }
   ],
   "source": [
    "import torch\n",
    "\n",
    "x = torch.tensor(torch.randn(10, 5))\n",
    "q = torch.tensor(torch.tensor([0, 0, 0, 0, 1]))\n",
    "\n",
    "def attention(q, embeddings):\n",
    "\n",
    "    normalizer = torch.zeros(len(embeddings))\n",
    "    weights = torch.zeros(len(embeddings))\n",
    "    for i, row in enumerate(embeddings):\n",
    "        weights[i] = torch.exp(torch.matmul(row, q))\n",
    "        normalizer[i] = torch.exp(torch.matmul(row, q))\n",
    "    normalizer = torch.sum(normalizer)\n",
    "    weights = weights/normalizer \n",
    "    return torch.sum(torch.mul(weights.T, embeddings), axis=0)\n",
    "\n",
    "\n",
    "def attention(q, embeddings):\n",
    "    normalizer = torch.zeros(len(embeddings))\n",
    "    weights = torch.zeros(len(embeddings))\n",
    "    for i, row in enumerate(embeddings):\n",
    "        weights[i] = torch.exp(torch.matmul(row, q))\n",
    "        normalizer[i] = torch.exp(torch.matmul(row, q))\n",
    "    normalizer = torch.sum(normalizer)\n",
    "    weights = weights/normalizer \n",
    "    return torch.sum(torch.mul(weights, embeddings.T), axis=0)\n",
    "\n",
    "def attention2(q, embeddings):\n",
    "    weights = torch.exp(torch.matmul(embeddings, q))\n",
    "    print(weights.shape)\n",
    "    weights = weights/torch.sum(weights)\n",
    "    print(torch.sum(weights))\n",
    "    print(torch.mul(weights, embeddings.T).shape)\n",
    "    return torch.sum(torch.mul(weights, embeddings.T), axis=1)\n",
    "\n",
    "def self_attention(q, embeddings):\n",
    "    \"\"\"\n",
    "        Returns the vector with the maximal sum of the self attention. \n",
    "    \"\"\"\n",
    "    self_att = torch.nn.MultiheadAttention(embeddings.shape[1], 1)\n",
    "    out = self_att(embeddings, embeddings, embeddings)[0]\n",
    "    sum = torch.sum(out, axis=0)\n",
    "    _, idx = torch.max(sum, axis=0)\n",
    "    return out[idx]\n",
    "\n",
    "\n",
    "q = torch.randn(5)\n",
    "print(attention(q, x))\n",
    "print(attention2(q, x))\n",
    "print(self_attention(q, x))\n"
   ]
  }
 ],
 "metadata": {
  "kernelspec": {
   "display_name": "Python 3.10.1 64-bit ('3.10.1')",
   "language": "python",
   "name": "python3"
  },
  "language_info": {
   "codemirror_mode": {
    "name": "ipython",
    "version": 3
   },
   "file_extension": ".py",
   "mimetype": "text/x-python",
   "name": "python",
   "nbconvert_exporter": "python",
   "pygments_lexer": "ipython3",
   "version": "3.10.1"
  },
  "orig_nbformat": 4,
  "vscode": {
   "interpreter": {
    "hash": "9279cfc4f85cfd5c5a2869a0eed3a09729229c83aeb5507d7a952101e374247c"
   }
  }
 },
 "nbformat": 4,
 "nbformat_minor": 2
}
